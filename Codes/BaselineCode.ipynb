{
 "cells": [
  {
   "cell_type": "code",
   "execution_count": 1,
   "metadata": {
    "id": "-POPfW_jaNrd",
    "executionInfo": {
     "status": "ok",
     "timestamp": 1661827871177,
     "user_tz": -540,
     "elapsed": 863,
     "user": {
      "displayName": "수지",
      "userId": "02850173955142315821"
     }
    },
    "pycharm": {
     "name": "#%%\n"
    }
   },
   "outputs": [],
   "source": [
    "\n",
    "from glob import glob\n",
    "from tqdm import tqdm\n",
    "#from rdkit import Chem\n",
    "import numpy as np\n",
    "import pandas as pd\n",
    "import re\n",
    "import shutil\n",
    "import os"
   ]
  },
  {
   "cell_type": "code",
   "source": [
    "os.getcwd()"
   ],
   "metadata": {
    "colab": {
     "base_uri": "https://localhost:8080/",
     "height": 35
    },
    "id": "YqgnHUqeaieV",
    "executionInfo": {
     "status": "ok",
     "timestamp": 1661827872489,
     "user_tz": -540,
     "elapsed": 4,
     "user": {
      "displayName": "수지",
      "userId": "02850173955142315821"
     }
    },
    "outputId": "be7e8538-f890-43f4-ae89-eb76f77dfba8",
    "pycharm": {
     "name": "#%%\n"
    }
   },
   "execution_count": 2,
   "outputs": [
    {
     "data": {
      "text/plain": "'/Users/bangseongjin/Desktop/2022SamsungAIchallenge/Codes'"
     },
     "execution_count": 2,
     "metadata": {},
     "output_type": "execute_result"
    }
   ]
  },
  {
   "cell_type": "code",
   "source": [
    "!gdown \"https://drive.google.com/file/d/1UhL-lkwilxMrJtW1tPoA0Nra3LPNGRTK\""
   ],
   "metadata": {
    "colab": {
     "base_uri": "https://localhost:8080/"
    },
    "id": "yqAYxt7B2Erg",
    "executionInfo": {
     "status": "ok",
     "timestamp": 1661848294875,
     "user_tz": -540,
     "elapsed": 2324,
     "user": {
      "displayName": "수지",
      "userId": "02850173955142315821"
     }
    },
    "outputId": "f990eb63-e89a-4224-9b74-ef835c703e58",
    "pycharm": {
     "name": "#%%\n"
    }
   },
   "execution_count": 3,
   "outputs": [
    {
     "name": "stdout",
     "output_type": "stream",
     "text": [
      "zsh:1: command not found: gdown\r\n"
     ]
    }
   ]
  },
  {
   "cell_type": "code",
   "execution_count": 4,
   "metadata": {
    "colab": {
     "base_uri": "https://localhost:8080/",
     "height": 224
    },
    "id": "mBiXES7zaNrk",
    "executionInfo": {
     "status": "ok",
     "timestamp": 1661845941291,
     "user_tz": -540,
     "elapsed": 581,
     "user": {
      "displayName": "수지",
      "userId": "02850173955142315821"
     }
    },
    "outputId": "5a9529eb-4a2f-4c52-bd98-88cfa16d264b",
    "pycharm": {
     "name": "#%%\n"
    }
   },
   "outputs": [
    {
     "name": "stdout",
     "output_type": "stream",
     "text": [
      "18157\n"
     ]
    },
    {
     "data": {
      "text/plain": "     index                                             SMILES   Reorg_g  \\\n0  train_0  CC[C@H]1CCCCN1C(=O)[C@@H](C)OC(=O)c1c(C)oc(-n2...  0.631486   \n1  train_1                     O[C@@H](CNC1CC1)CN1CCc2sccc2C1  0.825901   \n2  train_2                          N#CCCNC(=O)[C@@]1(O)CCSC1  1.463943   \n3  train_3        COC[C@H]1CN(c2ccc(OCC[C@@H](C)O)cc2)C(=O)O1  0.166669   \n4  train_4          N#Cc1c(-c2ccccc2OCC(N)=O)[nH]c(C(N)=O)c1N  0.313820   \n\n   Reorg_ex  \n0  0.535060  \n1  1.116781  \n2  0.964848  \n3  0.161458  \n4  0.338862  ",
      "text/html": "<div>\n<style scoped>\n    .dataframe tbody tr th:only-of-type {\n        vertical-align: middle;\n    }\n\n    .dataframe tbody tr th {\n        vertical-align: top;\n    }\n\n    .dataframe thead th {\n        text-align: right;\n    }\n</style>\n<table border=\"1\" class=\"dataframe\">\n  <thead>\n    <tr style=\"text-align: right;\">\n      <th></th>\n      <th>index</th>\n      <th>SMILES</th>\n      <th>Reorg_g</th>\n      <th>Reorg_ex</th>\n    </tr>\n  </thead>\n  <tbody>\n    <tr>\n      <th>0</th>\n      <td>train_0</td>\n      <td>CC[C@H]1CCCCN1C(=O)[C@@H](C)OC(=O)c1c(C)oc(-n2...</td>\n      <td>0.631486</td>\n      <td>0.535060</td>\n    </tr>\n    <tr>\n      <th>1</th>\n      <td>train_1</td>\n      <td>O[C@@H](CNC1CC1)CN1CCc2sccc2C1</td>\n      <td>0.825901</td>\n      <td>1.116781</td>\n    </tr>\n    <tr>\n      <th>2</th>\n      <td>train_2</td>\n      <td>N#CCCNC(=O)[C@@]1(O)CCSC1</td>\n      <td>1.463943</td>\n      <td>0.964848</td>\n    </tr>\n    <tr>\n      <th>3</th>\n      <td>train_3</td>\n      <td>COC[C@H]1CN(c2ccc(OCC[C@@H](C)O)cc2)C(=O)O1</td>\n      <td>0.166669</td>\n      <td>0.161458</td>\n    </tr>\n    <tr>\n      <th>4</th>\n      <td>train_4</td>\n      <td>N#Cc1c(-c2ccccc2OCC(N)=O)[nH]c(C(N)=O)c1N</td>\n      <td>0.313820</td>\n      <td>0.338862</td>\n    </tr>\n  </tbody>\n</table>\n</div>"
     },
     "execution_count": 4,
     "metadata": {},
     "output_type": "execute_result"
    }
   ],
   "source": [
    "train = pd.read_csv(\"../data/train_set.ReorgE.csv\")\n",
    "train.columns = [\"index\", \"SMILES\", \"Reorg_g\", \"Reorg_ex\"]\n",
    "print(len(train))\n",
    "train.head()"
   ]
  },
  {
   "cell_type": "code",
   "source": [
    "os.chdir('/Users/bangseongjin/Desktop/2022SamsungAIchallenge/Codes')"
   ],
   "metadata": {
    "id": "ytJ29Z2TbU34",
    "executionInfo": {
     "status": "ok",
     "timestamp": 1661827935214,
     "user_tz": -540,
     "elapsed": 348,
     "user": {
      "displayName": "수지",
      "userId": "02850173955142315821"
     }
    },
    "pycharm": {
     "name": "#%%\n"
    }
   },
   "execution_count": 5,
   "outputs": []
  },
  {
   "cell_type": "code",
   "execution_count": 6,
   "outputs": [
    {
     "data": {
      "text/plain": "'/Users/bangseongjin/Desktop/2022SamsungAIchallenge/Codes'"
     },
     "execution_count": 6,
     "metadata": {},
     "output_type": "execute_result"
    }
   ],
   "source": [
    "os.getcwd()"
   ],
   "metadata": {
    "collapsed": false,
    "pycharm": {
     "name": "#%%\n"
    }
   }
  },
  {
   "cell_type": "code",
   "execution_count": 7,
   "metadata": {
    "id": "w3Suymn0aNrm",
    "outputId": "6ff34ec5-feb7-4380-af82-3f2993438abc",
    "colab": {
     "base_uri": "https://localhost:8080/"
    },
    "executionInfo": {
     "status": "ok",
     "timestamp": 1661828028256,
     "user_tz": -540,
     "elapsed": 89817,
     "user": {
      "displayName": "수지",
      "userId": "02850173955142315821"
     }
    },
    "pycharm": {
     "name": "#%%\n"
    }
   },
   "outputs": [],
   "source": [
    "if os.path.isdir(\"ex_file\"):\n",
    "    pass\n",
    "else:\n",
    "    os.mkdir(\"ex_file\")\n",
    "\n",
    "if os.path.isdir(\"g_file\"):\n",
    "    pass\n",
    "  \n",
    "else:\n",
    "    os.mkdir(\"g_file\")\n",
    "\n",
    "train_mol = sorted(glob(\"../data/mol_files/train_set/*.mol\"))\n",
    "\n",
    "if not os.path.isfile(\"ex_file/train_0_ex.csv\"):\n",
    "    for i in tqdm(train_mol):\n",
    "        result = []\n",
    "        tmp = open(i, 'r').read().split(\"\\n\")\n",
    "        for j in tmp:\n",
    "            tmp_ = re.sub(' +', ' ', j.lstrip()).split(' ')\n",
    "            if len(tmp_) > 11:\n",
    "                result.append(tmp_)\n",
    "            \n",
    "        file_name = i.split(\"/\")[-1].split('.')[0]\n",
    "    \n",
    "        if \"ex\" in file_name:\n",
    "            pd.DataFrame(result).to_csv(f\"ex_file/{file_name}\" + \".csv\", index = False)\n",
    "        elif \"g\" in file_name:\n",
    "            pd.DataFrame(result).to_csv(f\"g_file/{file_name}\" + \".csv\", index = False)"
   ]
  },
  {
   "cell_type": "code",
   "execution_count": 8,
   "metadata": {
    "id": "QRcFgRzYaNro",
    "outputId": "39a9862c-9dcc-4c92-9965-8d64d128e8fe",
    "colab": {
     "base_uri": "https://localhost:8080/"
    },
    "executionInfo": {
     "status": "ok",
     "timestamp": 1661828110110,
     "user_tz": -540,
     "elapsed": 42095,
     "user": {
      "displayName": "수지",
      "userId": "02850173955142315821"
     }
    },
    "pycharm": {
     "name": "#%%\n"
    }
   },
   "outputs": [
    {
     "name": "stderr",
     "output_type": "stream",
     "text": [
      "100%|██████████| 18157/18157 [00:19<00:00, 915.86it/s]\n"
     ]
    }
   ],
   "source": [
    "max_len = 0\n",
    "error = []\n",
    "g_data, ex_data = [], []\n",
    "mol = []\n",
    "\n",
    "for i in tqdm(train[train.columns[0]]):\n",
    "    tmp_g = pd.read_csv(f\"g_file/{i}\" + '_g.csv')\n",
    "\n",
    "    if len(tmp_g) >= max_len:\n",
    "        max_len = len(tmp_g)\n",
    "        \n",
    "    for j in tmp_g[\"3\"]:\n",
    "        mol.append(j)\n"
   ]
  },
  {
   "cell_type": "code",
   "source": [
    "print(tmp_g)\n",
    "print(max_len)"
   ],
   "metadata": {
    "colab": {
     "base_uri": "https://localhost:8080/"
    },
    "id": "oG1wFfT4YDag",
    "executionInfo": {
     "status": "ok",
     "timestamp": 1661840918331,
     "user_tz": -540,
     "elapsed": 318,
     "user": {
      "displayName": "수지",
      "userId": "02850173955142315821"
     }
    },
    "outputId": "9b2af5db-ea12-41a2-a5bb-3d4f01445c6a",
    "pycharm": {
     "name": "#%%\n"
    }
   },
   "execution_count": 9,
   "outputs": [
    {
     "name": "stdout",
     "output_type": "stream",
     "text": [
      "          0        1       2  3  4  5  6  7  8  9  10  11  12  13  14  15\n",
      "0    0.6476   0.2797  0.0464  C  0  0  0  0  0  0   0   0   0   0   0   0\n",
      "1    2.0299   0.0820  0.1534  O  0  0  0  0  0  0   0   0   0   0   0   0\n",
      "2    2.5425   0.3247  1.4442  C  0  0  0  0  0  0   0   0   0   0   0   0\n",
      "3    4.0451   0.0793  1.4018  C  0  0  0  0  0  0   0   0   0   0   0   0\n",
      "4    4.7851   0.2133  2.7560  C  0  0  2  0  0  0   0   0   0   0   0   0\n",
      "..      ...      ...     ... .. .. .. .. .. .. ..  ..  ..  ..  ..  ..  ..\n",
      "107  5.0195  16.2097 -0.5201  H  0  0  0  0  0  0   0   0   0   0   0   0\n",
      "108  5.3465  13.7915 -0.3138  H  0  0  0  0  0  0   0   0   0   0   0   0\n",
      "109  6.6508  12.1604  0.6959  H  0  0  0  0  0  0   0   0   0   0   0   0\n",
      "110  7.0070   9.7198  0.8650  H  0  0  0  0  0  0   0   0   0   0   0   0\n",
      "111  5.1314   2.9900  1.9569  H  0  0  0  0  0  0   0   0   0   0   0   0\n",
      "\n",
      "[112 rows x 16 columns]\n",
      "310\n"
     ]
    }
   ]
  },
  {
   "cell_type": "code",
   "source": [
    "for i in range(10):\n",
    "  print(mol[i])"
   ],
   "metadata": {
    "colab": {
     "base_uri": "https://localhost:8080/"
    },
    "id": "L3JVnGlhm8Ox",
    "executionInfo": {
     "status": "ok",
     "timestamp": 1661839409648,
     "user_tz": -540,
     "elapsed": 374,
     "user": {
      "displayName": "수지",
      "userId": "02850173955142315821"
     }
    },
    "outputId": "33193487-eb86-4a17-8cbb-b310d0251e93",
    "pycharm": {
     "name": "#%%\n"
    }
   },
   "execution_count": 10,
   "outputs": [
    {
     "name": "stdout",
     "output_type": "stream",
     "text": [
      "C\n",
      "C\n",
      "C\n",
      "C\n",
      "C\n",
      "C\n",
      "C\n",
      "N\n",
      "C\n",
      "O\n"
     ]
    }
   ]
  },
  {
   "cell_type": "code",
   "execution_count": 11,
   "metadata": {
    "id": "u5mD__q-aNrp",
    "outputId": "bad9d6fc-f1a0-45f1-cb7f-aea7123eda75",
    "colab": {
     "base_uri": "https://localhost:8080/"
    },
    "executionInfo": {
     "status": "ok",
     "timestamp": 1661845556658,
     "user_tz": -540,
     "elapsed": 136291,
     "user": {
      "displayName": "수지",
      "userId": "02850173955142315821"
     }
    },
    "pycharm": {
     "name": "#%%\n"
    }
   },
   "outputs": [
    {
     "name": "stderr",
     "output_type": "stream",
     "text": [
      "100%|██████████| 18157/18157 [00:55<00:00, 328.34it/s]\n"
     ]
    }
   ],
   "source": [
    "mol_list = list(set(mol))\n",
    "g_data, ex_data = [], []\n",
    "\n",
    "def get_mol(data):\n",
    "    if data in mol_list:\n",
    "        return mol_list.index(data) + 1\n",
    "    \n",
    "    else:\n",
    "        return -1\n",
    "\n",
    "for i in tqdm(train[train.columns[0]]):\n",
    "    tmp_g = pd.read_csv(f\"g_file/{i}\" + '_g.csv').iloc[:, :4]\n",
    "    tmp_ex = pd.read_csv(f\"ex_file/{i}\" +'_ex.csv').iloc[:, :4]\n",
    "    \n",
    "    tmp_g[\"3\"] = tmp_g[\"3\"].apply(lambda x : get_mol(x)) # apply는 인자값(get_mol)에 따라 각 셀을 변화시키는 함수이다.\n",
    "    tmp_ex[\"3\"] = tmp_ex[\"3\"].apply(lambda x : get_mol(x))\n",
    " \n",
    "  \n",
    "    tmp_g = np.array(tmp_g)\n",
    "    tmp_ex = np.array(tmp_ex)\n",
    "    \n",
    "    if max_len != len(tmp_g):\n",
    "        # tmp_g : 좌표정보, 원소\n",
    "        # [[0] * 4] * max_len-tmp_g.shape[0] --> [[0],[0],[0],[0]] * max_len-tmp_g.shape[0]\n",
    "        tmp_g = np.concatenate((tmp_g, np.array([[0] * 4] * (max_len-tmp_g.shape[0]))))\n",
    "        tmp_ex = np.concatenate((tmp_ex, np.array([[0] * 4] * (max_len - tmp_ex.shape[0]))))\n",
    "    elif max_len == len(tmp_g):\n",
    "        tmp_g = tmp_g\n",
    "        tmp_ex = tmp_ex\n",
    "    \n",
    "    g_data.append(tmp_g)\n",
    "    ex_data.append(tmp_ex)\n"
   ]
  },
  {
   "cell_type": "code",
   "source": [
    "\n",
    "print(g_data[0])\n",
    "print(type(g_data))"
   ],
   "metadata": {
    "colab": {
     "base_uri": "https://localhost:8080/"
    },
    "id": "9RV-GGV-oIHU",
    "executionInfo": {
     "status": "ok",
     "timestamp": 1661845621525,
     "user_tz": -540,
     "elapsed": 371,
     "user": {
      "displayName": "수지",
      "userId": "02850173955142315821"
     }
    },
    "outputId": "7e4d4c74-50c3-4c2d-986a-4b717a580d53",
    "pycharm": {
     "name": "#%%\n"
    }
   },
   "execution_count": 12,
   "outputs": [
    {
     "name": "stdout",
     "output_type": "stream",
     "text": [
      "[[ 2.8972 -2.3256  0.4309  1.    ]\n",
      " [ 3.3467 -1.0151  1.0796  1.    ]\n",
      " [ 3.3365  0.2041  0.1293  1.    ]\n",
      " ...\n",
      " [ 0.      0.      0.      0.    ]\n",
      " [ 0.      0.      0.      0.    ]\n",
      " [ 0.      0.      0.      0.    ]]\n",
      "<class 'list'>\n"
     ]
    }
   ]
  },
  {
   "cell_type": "code",
   "execution_count": 13,
   "metadata": {
    "id": "KvDPCREsaNrq",
    "outputId": "061363c0-73ad-4f92-d30d-ef440834ac38",
    "colab": {
     "base_uri": "https://localhost:8080/"
    },
    "executionInfo": {
     "status": "ok",
     "timestamp": 1661845830694,
     "user_tz": -540,
     "elapsed": 908,
     "user": {
      "displayName": "수지",
      "userId": "02850173955142315821"
     }
    },
    "pycharm": {
     "name": "#%%\n"
    }
   },
   "outputs": [
    {
     "name": "stdout",
     "output_type": "stream",
     "text": [
      "[[ 2.8972 -2.3256  0.4309 ...  0.      0.      0.    ]\n",
      " [ 2.2446  2.0206 -0.4231 ...  0.      0.      0.    ]\n",
      " [ 4.8695 -1.9497 -5.1308 ...  0.      0.      0.    ]\n",
      " ...\n",
      " [ 1.423  -0.1053  0.7295 ...  0.      0.      0.    ]\n",
      " [11.486   1.9573  5.8098 ...  0.      0.      0.    ]\n",
      " [ 0.6476  0.2797  0.0464 ...  0.      0.      0.    ]]\n",
      "(18157, 2480)\n",
      "(18157, 2)\n"
     ]
    }
   ],
   "source": [
    "\n",
    "g_data = np.array(g_data).reshape(len(g_data), -1) # -1 의 의미는 자동적으로 배열 할당\n",
    "print(g_data)\n",
    "\n",
    "ex_data = np.array(ex_data).reshape(len(ex_data), -1)\n",
    "\n",
    "train_x = np.concatenate((g_data, ex_data), axis = 1)\n",
    "train_y = np.array(train.loc[:, [\"Reorg_g\", \"Reorg_ex\"]])\n",
    "\n",
    "print(train_x.shape)\n",
    "print(train_y.shape) # 트레이닝 데이터 준비 끝"
   ]
  },
  {
   "cell_type": "code",
   "execution_count": 14,
   "metadata": {
    "id": "_bJWWd5uaNrr",
    "executionInfo": {
     "status": "ok",
     "timestamp": 1661845999760,
     "user_tz": -540,
     "elapsed": 1877,
     "user": {
      "displayName": "수지",
      "userId": "02850173955142315821"
     }
    },
    "pycharm": {
     "name": "#%%\n"
    }
   },
   "outputs": [],
   "source": [
    "from sklearn.linear_model import LinearRegression\n",
    "from sklearn.multioutput import MultiOutputRegressor\n",
    "from sklearn.ensemble import RandomForestRegressor\n",
    "import lightgbm as lgb\n",
    "from sklearn.svm import SVR"
   ]
  },
  {
   "cell_type": "code",
   "execution_count": null,
   "metadata": {
    "id": "j8NaGfOeaNrs",
    "executionInfo": {
     "status": "ok",
     "timestamp": 1661846475180,
     "user_tz": -540,
     "elapsed": 471033,
     "user": {
      "displayName": "수지",
      "userId": "02850173955142315821"
     }
    },
    "pycharm": {
     "name": "#%%\n",
     "is_executing": true
    }
   },
   "outputs": [],
   "source": [
    "#LR = MultiOutputRegressor(lgb.LGBMRegressor(random_state=42, n_estimators=1000, max_depth=61, learning_rate=0.075)).fit(train_x, train_y)\n",
    "\n",
    "SV_g = SVR(kernel = 'linear', C = 1.0, epsilon = 0.1)\n",
    "SV_ex = SVR(kernel = 'linear', C = 1.0, epsilon = 0.1)\n",
    "SV_g.fit(train_x, train_y[:,0])\n",
    "SV_ex.fit(train_x, train_y[:,1])\n",
    "\n",
    "#차원 맞춰주어야함\n",
    "'''\n",
    "document\n",
    "https://scikit-learn.org/stable/modules/generated/sklearn.svm.SVC.html\n",
    "'''"
   ]
  },
  {
   "cell_type": "code",
   "source": [
    "os.getcwd()\n",
    "os.chdir('/Users/bangseongjin/Desktop/2022SamsungAIchallenge/data')"
   ],
   "metadata": {
    "colab": {
     "base_uri": "https://localhost:8080/",
     "height": 35
    },
    "id": "AnIbIZ0XxVpq",
    "executionInfo": {
     "status": "ok",
     "timestamp": 1661846521431,
     "user_tz": -540,
     "elapsed": 412,
     "user": {
      "displayName": "수지",
      "userId": "02850173955142315821"
     }
    },
    "outputId": "90de1a97-00b8-4dc3-b8c1-7b3f0f0f65fe",
    "pycharm": {
     "name": "#%%\n"
    }
   },
   "execution_count": 34,
   "outputs": []
  },
  {
   "cell_type": "code",
   "execution_count": 35,
   "metadata": {
    "id": "ERsrFjt4aNrt",
    "outputId": "3cfd52b3-5592-4d84-af5c-7eaf4599a482",
    "colab": {
     "base_uri": "https://localhost:8080/"
    },
    "executionInfo": {
     "status": "ok",
     "timestamp": 1661846546226,
     "user_tz": -540,
     "elapsed": 5174,
     "user": {
      "displayName": "수지",
      "userId": "02850173955142315821"
     }
    },
    "pycharm": {
     "name": "#%%\n"
    }
   },
   "outputs": [
    {
     "name": "stderr",
     "output_type": "stream",
     "text": [
      "100%|██████████| 914/914 [00:01<00:00, 591.12it/s]\n"
     ]
    }
   ],
   "source": [
    "if os.path.isdir(\"test_ex_file\"):\n",
    "    pass\n",
    "else:\n",
    "    os.mkdir(\"test_ex_file\")\n",
    "\n",
    "if os.path.isdir(\"test_g_file\"):\n",
    "    pass\n",
    "else:\n",
    "    os.mkdir(\"test_g_file\")\n",
    "\n",
    "test_mol = sorted(glob(\"mol_files/test_set/*.mol\"))\n",
    "if not os.path.isdir(\"test_ex_file/test_0_ex.csv\"):\n",
    "    for i in tqdm(test_mol):\n",
    "        result = []\n",
    "        tmp = open(i, 'r').read().split(\"\\n\")\n",
    "        for j in tmp:\n",
    "            tmp_ = re.sub(' +', ' ', j.lstrip()).split(' ')\n",
    "            if len(tmp_) > 11:\n",
    "                result.append(tmp_)\n",
    "\n",
    "        file_name = i.split('/')[-1].split('.')[0]\n",
    "\n",
    "        if \"ex\" in file_name:\n",
    "            pd.DataFrame(result).to_csv(f\"test_ex_file/{file_name}\" + \".csv\", index = False)\n",
    "        elif \"g\" in file_name:\n",
    "            pd.DataFrame(result).to_csv(f\"test_g_file/{file_name}\" + \".csv\", index = False)"
   ]
  },
  {
   "cell_type": "code",
   "execution_count": 32,
   "outputs": [],
   "source": [
    "#절대 경로로 변경\n",
    "os.getcwd()\n",
    "os.chdir('/Users/bangseongjin/Desktop/2022SamsungAIchallenge/Codes')"
   ],
   "metadata": {
    "collapsed": false,
    "pycharm": {
     "name": "#%%\n"
    }
   }
  },
  {
   "cell_type": "markdown",
   "source": [],
   "metadata": {
    "collapsed": false,
    "pycharm": {
     "name": "#%% md\n"
    }
   }
  },
  {
   "cell_type": "code",
   "execution_count": 36,
   "metadata": {
    "id": "QT-EEUzuaNrv",
    "outputId": "c4a74034-32f2-4199-d30d-9094802fdc28",
    "colab": {
     "base_uri": "https://localhost:8080/"
    },
    "executionInfo": {
     "status": "ok",
     "timestamp": 1661846671819,
     "user_tz": -540,
     "elapsed": 6910,
     "user": {
      "displayName": "수지",
      "userId": "02850173955142315821"
     }
    },
    "pycharm": {
     "name": "#%%\n"
    }
   },
   "outputs": [
    {
     "name": "stderr",
     "output_type": "stream",
     "text": [
      "100%|██████████| 457/457 [00:01<00:00, 296.59it/s]\n"
     ]
    }
   ],
   "source": [
    "test = pd.read_csv(\"test_set.csv\")\n",
    "\n",
    "test_g, test_ex = [], []\n",
    "\n",
    "for i in tqdm(test[test.columns[0]]):\n",
    "    tmp_g = pd.read_csv(f\"test_g_file/{i}\" + '_g.csv').iloc[:, :4]\n",
    "    tmp_ex = pd.read_csv(f\"test_ex_file/{i}\" +'_ex.csv').iloc[:, :4]\n",
    "    \n",
    "    tmp_g[\"3\"] = tmp_g[\"3\"].apply(lambda x : get_mol(x))\n",
    "    tmp_ex[\"3\"] = tmp_ex[\"3\"].apply(lambda x : get_mol(x))\n",
    "    \n",
    "    tmp_g = np.array(tmp_g)\n",
    "    tmp_ex = np.array(tmp_ex)\n",
    "    \n",
    "    if len(tmp_g) < max_len:\n",
    "        tmp_g = np.concatenate((tmp_g, np.array([[0] * 4] * (max_len-tmp_g.shape[0]))))\n",
    "        tmp_ex = np.concatenate((tmp_ex, np.array([[0] * 4] * (max_len - tmp_ex.shape[0]))))\n",
    "    elif len(tmp_g) == max_len:\n",
    "        pass\n",
    "    else:\n",
    "        tmp_g = tmp_g[:max_len]\n",
    "        tmp_ex = tmp_ex[:max_len]\n",
    "    \n",
    "    test_g.append(tmp_g)\n",
    "    test_ex.append(tmp_ex)"
   ]
  },
  {
   "cell_type": "code",
   "source": [],
   "metadata": {
    "id": "WfILIpOon_et",
    "pycharm": {
     "name": "#%%\n"
    }
   },
   "execution_count": null,
   "outputs": []
  },
  {
   "cell_type": "code",
   "execution_count": 37,
   "metadata": {
    "id": "hJbgfNnIaNrw",
    "outputId": "7477a0ce-0cc6-4a98-ef29-ec087bdbd3cd",
    "colab": {
     "base_uri": "https://localhost:8080/"
    },
    "executionInfo": {
     "status": "ok",
     "timestamp": 1661846678160,
     "user_tz": -540,
     "elapsed": 384,
     "user": {
      "displayName": "수지",
      "userId": "02850173955142315821"
     }
    },
    "pycharm": {
     "name": "#%%\n"
    }
   },
   "outputs": [
    {
     "name": "stdout",
     "output_type": "stream",
     "text": [
      "(457, 2480)\n"
     ]
    }
   ],
   "source": [
    "test_g = np.array(test_g).reshape(len(test_g), -1)\n",
    "test_ex = np.array(test_ex).reshape(len(test_ex), -1)\n",
    "\n",
    "test_x = np.concatenate((test_g, test_ex), axis = 1)\n",
    "\n",
    "print(test_x.shape)"
   ]
  },
  {
   "cell_type": "code",
   "execution_count": 38,
   "metadata": {
    "id": "7xBAl0NWaNrw",
    "executionInfo": {
     "status": "ok",
     "timestamp": 1661846681714,
     "user_tz": -540,
     "elapsed": 385,
     "user": {
      "displayName": "수지",
      "userId": "02850173955142315821"
     }
    },
    "pycharm": {
     "name": "#%%\n"
    }
   },
   "outputs": [],
   "source": [
    "pred = SV.predict(test_x)"
   ]
  },
  {
   "cell_type": "code",
   "execution_count": 39,
   "metadata": {
    "id": "Zmjwt0AbaNrx",
    "outputId": "a2dd7ef7-cb97-4987-a328-655543af61d8",
    "colab": {
     "base_uri": "https://localhost:8080/",
     "height": 206
    },
    "executionInfo": {
     "status": "ok",
     "timestamp": 1661846715130,
     "user_tz": -540,
     "elapsed": 390,
     "user": {
      "displayName": "수지",
      "userId": "02850173955142315821"
     }
    },
    "pycharm": {
     "name": "#%%\n"
    }
   },
   "outputs": [
    {
     "data": {
      "text/plain": "    index  Reorg_g  Reorg_ex\n0  test_0        0         0\n1  test_1        0         0\n2  test_2        0         0\n3  test_3        0         0\n4  test_4        0         0",
      "text/html": "<div>\n<style scoped>\n    .dataframe tbody tr th:only-of-type {\n        vertical-align: middle;\n    }\n\n    .dataframe tbody tr th {\n        vertical-align: top;\n    }\n\n    .dataframe thead th {\n        text-align: right;\n    }\n</style>\n<table border=\"1\" class=\"dataframe\">\n  <thead>\n    <tr style=\"text-align: right;\">\n      <th></th>\n      <th>index</th>\n      <th>Reorg_g</th>\n      <th>Reorg_ex</th>\n    </tr>\n  </thead>\n  <tbody>\n    <tr>\n      <th>0</th>\n      <td>test_0</td>\n      <td>0</td>\n      <td>0</td>\n    </tr>\n    <tr>\n      <th>1</th>\n      <td>test_1</td>\n      <td>0</td>\n      <td>0</td>\n    </tr>\n    <tr>\n      <th>2</th>\n      <td>test_2</td>\n      <td>0</td>\n      <td>0</td>\n    </tr>\n    <tr>\n      <th>3</th>\n      <td>test_3</td>\n      <td>0</td>\n      <td>0</td>\n    </tr>\n    <tr>\n      <th>4</th>\n      <td>test_4</td>\n      <td>0</td>\n      <td>0</td>\n    </tr>\n  </tbody>\n</table>\n</div>"
     },
     "execution_count": 39,
     "metadata": {},
     "output_type": "execute_result"
    }
   ],
   "source": [
    "submission = pd.read_csv(\"sample_submission.csv\")\n",
    "\n",
    "submission.head()"
   ]
  },
  {
   "cell_type": "code",
   "execution_count": 50,
   "outputs": [],
   "source": [
    "os.getcwd()\n",
    "if not os.path.isdir(\"/Users/bangseongjin/Desktop/2022SamsungAIchallenge/submission_file\"):\n",
    "    os.mkdir('/Users/bangseongjin/Desktop/2022SamsungAIchallenge/submission_file')"
   ],
   "metadata": {
    "collapsed": false,
    "pycharm": {
     "name": "#%%\n"
    }
   }
  },
  {
   "cell_type": "code",
   "execution_count": 53,
   "metadata": {
    "id": "_SNS8yC8aNry",
    "colab": {
     "base_uri": "https://localhost:8080/"
    },
    "executionInfo": {
     "status": "ok",
     "timestamp": 1661848326503,
     "user_tz": -540,
     "elapsed": 881,
     "user": {
      "displayName": "수지",
      "userId": "02850173955142315821"
     }
    },
    "outputId": "d92023db-7abf-4b2b-ebb0-d2555e356e3e",
    "pycharm": {
     "name": "#%%\n"
    }
   },
   "outputs": [],
   "source": [
    "\n",
    "submission.loc[:, [\"Reorg_g\", \"Reorg_ex\"]] = pred\n",
    "submission.to_csv('/Users/bangseongjin/Desktop/2022SamsungAIchallenge/submission_file/submission_SVR.csv', index = False)\n"
   ]
  },
  {
   "cell_type": "code",
   "source": [],
   "metadata": {
    "colab": {
     "base_uri": "https://localhost:8080/",
     "height": 35
    },
    "id": "bz3v1PI4zFHl",
    "executionInfo": {
     "status": "ok",
     "timestamp": 1661847101919,
     "user_tz": -540,
     "elapsed": 435,
     "user": {
      "displayName": "수지",
      "userId": "02850173955142315821"
     }
    },
    "outputId": "b115dc0b-24a9-49fe-d9ad-3ea0d5b15b5d",
    "pycharm": {
     "name": "#%%\n"
    }
   },
   "execution_count": 76,
   "outputs": [
    {
     "output_type": "execute_result",
     "data": {
      "text/plain": [
       "'/'"
      ],
      "application/vnd.google.colaboratory.intrinsic+json": {
       "type": "string"
      }
     },
     "metadata": {},
     "execution_count": 76
    }
   ]
  },
  {
   "cell_type": "code",
   "source": [],
   "metadata": {
    "id": "8xKLhT0fyJ4T",
    "executionInfo": {
     "status": "ok",
     "timestamp": 1661846891885,
     "user_tz": -540,
     "elapsed": 375,
     "user": {
      "displayName": "수지",
      "userId": "02850173955142315821"
     }
    },
    "pycharm": {
     "name": "#%%\n"
    }
   },
   "execution_count": 69,
   "outputs": []
  }
 ],
 "metadata": {
  "kernelspec": {
   "name": "python3",
   "language": "python",
   "display_name": "Python 3 (ipykernel)"
  },
  "language_info": {
   "codemirror_mode": {
    "name": "ipython",
    "version": 3
   },
   "file_extension": ".py",
   "mimetype": "text/x-python",
   "name": "python",
   "nbconvert_exporter": "python",
   "pygments_lexer": "ipython3",
   "version": "3.9.7"
  },
  "colab": {
   "name": "LGBM을_활용한 BASELINE (1).ipynb",
   "provenance": []
  }
 },
 "nbformat": 4,
 "nbformat_minor": 0
}